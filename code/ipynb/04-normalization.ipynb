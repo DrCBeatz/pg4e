{
 "cells": [
  {
   "cell_type": "markdown",
   "metadata": {},
   "source": [
    "Reading Normalized Data Quickly using a Database\n",
    "------------------------------------------------------------\n",
    "\n",
    "In your readonly database, there is an un-normalized table called *home_value_by_zip* with 4,466,776 records of un-normalized data.  There is also a normalized copy of the same data in a few tables in the database.  Part of this assignment is about speed.  You must examine the tables, figure out how to connect them and then construct an efficient SQL query that will retrieve the requested data."
   ]
  },
  {
   "cell_type": "code",
   "execution_count": 1,
   "metadata": {},
   "outputs": [],
   "source": [
    "# https://www.pg4e.com/code/ipynb/04-normalization.ipynb\n",
    "\n",
    "import psycopg2\n",
    "import pandas as pd\n",
    "import time"
   ]
  },
  {
   "cell_type": "code",
   "execution_count": 2,
   "metadata": {},
   "outputs": [
    {
     "name": "stdout",
     "output_type": "stream",
     "text": [
      "PostgreSQL connection data taken from hidden.py\n"
     ]
    }
   ],
   "source": [
    "# If you are going to send this file to the autograder, you cannot use hidden.py\n",
    "# and must uncomment the sql_string assignment statement below and put in your values\n",
    "\n",
    "sql_string = None\n",
    "# sql_string = 'dbname=pg4e_data user=pg4e_data_read password=pg4e_pass_94e5d host=35.239.113.162 port=10001'\n",
    "    \n",
    "# If we leave sql_string as None, we can use hidden.py - but this only works for demo/test - not autograder\n",
    "if sql_string is None:\n",
    "    import hidden\n",
    "    secrets = hidden.readonly()\n",
    "    sql_string = hidden.psycopg2(hidden.readonly())\n",
    "    print('PostgreSQL connection data taken from hidden.py')"
   ]
  },
  {
   "cell_type": "code",
   "execution_count": 3,
   "metadata": {},
   "outputs": [],
   "source": [
    "conn = psycopg2.connect(sql_string,connect_timeout=3)"
   ]
  },
  {
   "cell_type": "markdown",
   "metadata": {},
   "source": [
    "You are to construct a query using the normalized tables that will return the same results as:\n",
    "\n",
    "    SELECT state, avg(ym_val) AS average FROM home_value_by_zip\n",
    "    GROUP BY state ORDER BY average DESC LIMIT 10;\n",
    "\n",
    "Here is the expected output of the first few rows of the query:\n",
    "\n",
    "     state |       average       \n",
    "    -------+---------------------\n",
    "     CA    | 429388.882710557533\n",
    "     HI    | 384304.615036999379\n",
    "     DC    | 373415.607524148449\n",
    "     NJ    | 313458.077439427195\n"
   ]
  },
  {
   "cell_type": "code",
   "execution_count": 18,
   "metadata": {
    "nbgrader": {
     "grade": false,
     "grade_id": "cell-715a65927576adb6",
     "locked": false,
     "schema_version": 1,
     "solution": true
    }
   },
   "outputs": [],
   "source": [
    "sql = None\n",
    "\n",
    "### BEGIN SOLUTION\n",
    "sql = '''SELECT state, avg(ym_val) AS average FROM home_value\n",
    "JOIN home_state ON state_id = home_state.id\n",
    "GROUP BY state ORDER BY average DESC LIMIT 10;'''\n",
    "\n",
    "# sql = '''SELECT state, avg(ym_val) AS average FROM home_value_by_zip\n",
    "# GROUP BY state ORDER BY average DESC LIMIT 10;'''\n",
    "### END SOLUTION\n",
    "\n",
    "if sql is not None:\n",
    "    df = pd.read_sql_query(sql, conn)\n",
    "    df.head()"
   ]
  },
  {
   "cell_type": "code",
   "execution_count": 19,
   "metadata": {
    "nbgrader": {
     "grade": true,
     "grade_id": "cell-e94015b31a39e6d0",
     "locked": true,
     "points": 1,
     "schema_version": 1,
     "solution": false
    }
   },
   "outputs": [
    {
     "name": "stdout",
     "output_type": "stream",
     "text": [
      "Query execution time 1.6620681285858154\n"
     ]
    }
   ],
   "source": [
    "if sql is None:\n",
    "    raise Exception('You need to define the sql query')\n",
    "    \n",
    "assert df['state'][1] == 'HI'\n",
    "assert df['average'][1] > 384304\n",
    "assert df['average'][1] < 384305\n",
    "\n",
    "### BEGIN HIDDEN TESTS\n",
    "if sql.lower().find('join') < 0 :\n",
    "    raise Exception('You need to have a JOIN in your query')\n",
    "\n",
    "start = time.time()\n",
    "df = pd.read_sql_query(sql, conn)\n",
    "df.head()\n",
    "delta = time.time() - start\n",
    "print('Query execution time', delta)\n",
    "if delta > 4.0 :\n",
    "    raise Exception('Your query took too long')\n",
    "\n",
    "assert df['state'][3] == 'NJ'\n",
    "assert df['average'][3] > 313458\n",
    "assert df['average'][3] < 313459\n",
    "### END HIDDEN TESTS"
   ]
  },
  {
   "cell_type": "markdown",
   "metadata": {},
   "source": [
    "You are to construct a query using the normalized tables that will return the same results as:\n",
    "\n",
    "    SELECT city, avg(ym_val) AS average FROM home_value_by_zip\n",
    "    GROUP BY city ORDER BY average DESC LIMIT 10;\n",
    "\n",
    "Here is the expected output of the first few rows of the query:\n",
    "\n",
    "           city       |       average        \n",
    "     -----------------+----------------------\n",
    "      Atherton        | 3625292.526690391459\n",
    "      Portola Valley  | 2218466.548042704626\n",
    "      Fisher Island   | 2078791.814946619217\n",
    "      Montecito       | 1939405.693950177936\n"
   ]
  },
  {
   "cell_type": "code",
   "execution_count": 12,
   "metadata": {
    "nbgrader": {
     "grade": false,
     "grade_id": "cell-fb2f81aa54d0b8cd",
     "locked": false,
     "schema_version": 1,
     "solution": true
    }
   },
   "outputs": [],
   "source": [
    "sql = None\n",
    "\n",
    "### BEGIN SOLUTION\n",
    "sql = '''SELECT city, avg(ym_val) AS average FROM home_value\n",
    "JOIN home_city ON city_id = home_city.id\n",
    "GROUP BY city ORDER BY average DESC LIMIT 10;'''\n",
    "\n",
    "# sql = '''SELECT city, avg(ym_val) AS average FROM home_value_by_zip\n",
    "# GROUP BY city ORDER BY average DESC LIMIT 10;'''\n",
    "### END SOLUTION\n",
    "\n",
    "if sql is not None:\n",
    "    df = pd.read_sql_query(sql, conn)\n",
    "    df.head()"
   ]
  },
  {
   "cell_type": "code",
   "execution_count": 14,
   "metadata": {
    "nbgrader": {
     "grade": true,
     "grade_id": "cell-dbf5ff3e57889dc7",
     "locked": true,
     "points": 1,
     "schema_version": 1,
     "solution": false
    }
   },
   "outputs": [
    {
     "name": "stdout",
     "output_type": "stream",
     "text": [
      "Query execution time 1.680393934249878\n"
     ]
    }
   ],
   "source": [
    "if sql is None:\n",
    "    raise Exception('You need to define the sql query')\n",
    "\n",
    "assert df['city'][1] == 'Portola Valley'\n",
    "assert df['average'][1] > 2218466\n",
    "assert df['average'][1] < 2218467\n",
    "\n",
    "### BEGIN HIDDEN TESTS\n",
    "if sql.lower().find('join') < 0 :\n",
    "    raise Exception('You need to have a JOIN in your query')\n",
    "\n",
    "start = time.time()\n",
    "my_df = pd.read_sql_query(sql, conn)\n",
    "my_df.head()\n",
    "delta = time.time() - start\n",
    "print('Query execution time', delta)\n",
    "if delta > 4.0 :\n",
    "    raise Exception('Your query took too long')\n",
    "my_df.head()\n",
    "\n",
    "assert my_df['city'][3] == 'Montecito'\n",
    "assert my_df['average'][3] > 1939405\n",
    "assert my_df['average'][3] < 1939406\n",
    "\n",
    "### END HIDDEN TESTS"
   ]
  },
  {
   "cell_type": "code",
   "execution_count": null,
   "metadata": {},
   "outputs": [],
   "source": []
  }
 ],
 "metadata": {
  "celltoolbar": "Create Assignment",
  "kernelspec": {
   "display_name": "Python 3",
   "language": "python",
   "name": "python3"
  },
  "language_info": {
   "codemirror_mode": {
    "name": "ipython",
    "version": 3
   },
   "file_extension": ".py",
   "mimetype": "text/x-python",
   "name": "python",
   "nbconvert_exporter": "python",
   "pygments_lexer": "ipython3",
   "version": "3.7.3"
  }
 },
 "nbformat": 4,
 "nbformat_minor": 2
}
