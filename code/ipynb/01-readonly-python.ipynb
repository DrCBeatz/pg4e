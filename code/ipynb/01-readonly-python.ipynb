{
 "cells": [
  {
   "cell_type": "markdown",
   "metadata": {},
   "source": [
    "Setting Up a ReadOnly Database Connection in Pandas\n",
    "-----------------------------------------------------------------\n",
    "\n",
    "This assignment will make sure that you have the database setup by testing to see if \n",
    "we can make a database connection to the shared database for the class.  It also will test\n",
    "if your database connection information (sql_string) is set properly for the autograder."
   ]
  },
  {
   "cell_type": "code",
   "execution_count": 1,
   "metadata": {},
   "outputs": [],
   "source": [
    "# https://www.pg4e.com/code/ipynb/01-readonly-python.ipynb\n",
    "\n",
    "import psycopg2\n",
    "import pandas as pd"
   ]
  },
  {
   "cell_type": "code",
   "execution_count": 2,
   "metadata": {},
   "outputs": [
    {
     "name": "stdout",
     "output_type": "stream",
     "text": [
      "PostgreSQL connection data taken from hidden.py\n"
     ]
    }
   ],
   "source": [
    "# If you are going to send this file to the autograder, you cannot use hidden.py\n",
    "# and must uncomment the sql_string assignment statement below and put in your values\n",
    "\n",
    "sql_string = None\n",
    "# sql_string = 'dbname=pg4e_data user=pg4e_data_read password=pg4e_pass_94e5d host=35.239.113.162 port=10001'\n",
    "    \n",
    "# If we leave sql_string as None, we can use hidden.py - but this only works for demo/test - not autograder\n",
    "if sql_string is None:\n",
    "    import hidden\n",
    "    secrets = hidden.readonly()\n",
    "    sql_string = hidden.psycopg2(hidden.readonly())\n",
    "    print('PostgreSQL connection data taken from hidden.py')"
   ]
  },
  {
   "cell_type": "code",
   "execution_count": 3,
   "metadata": {},
   "outputs": [],
   "source": [
    "conn = psycopg2.connect(sql_string,connect_timeout=3)"
   ]
  },
  {
   "cell_type": "code",
   "execution_count": 4,
   "metadata": {},
   "outputs": [],
   "source": [
    "sql = \"SELECT count(*) AS count FROM taxdata;\"\n",
    "df = pd.read_sql_query(sql, conn)\n",
    "assert df['count'][0] == 378304"
   ]
  },
  {
   "cell_type": "code",
   "execution_count": 5,
   "metadata": {},
   "outputs": [
    {
     "data": {
      "text/html": [
       "<div>\n",
       "<style scoped>\n",
       "    .dataframe tbody tr th:only-of-type {\n",
       "        vertical-align: middle;\n",
       "    }\n",
       "\n",
       "    .dataframe tbody tr th {\n",
       "        vertical-align: top;\n",
       "    }\n",
       "\n",
       "    .dataframe thead th {\n",
       "        text-align: right;\n",
       "    }\n",
       "</style>\n",
       "<table border=\"1\" class=\"dataframe\">\n",
       "  <thead>\n",
       "    <tr style=\"text-align: right;\">\n",
       "      <th></th>\n",
       "      <th>count</th>\n",
       "    </tr>\n",
       "  </thead>\n",
       "  <tbody>\n",
       "    <tr>\n",
       "      <th>0</th>\n",
       "      <td>378304</td>\n",
       "    </tr>\n",
       "  </tbody>\n",
       "</table>\n",
       "</div>"
      ],
      "text/plain": [
       "    count\n",
       "0  378304"
      ]
     },
     "execution_count": 5,
     "metadata": {},
     "output_type": "execute_result"
    }
   ],
   "source": [
    "df.head()"
   ]
  },
  {
   "cell_type": "code",
   "execution_count": 6,
   "metadata": {
    "nbgrader": {
     "grade": true,
     "grade_id": "cell-ad191fd62ca88a09",
     "locked": true,
     "points": 1,
     "schema_version": 1,
     "solution": false
    }
   },
   "outputs": [],
   "source": [
    "my_sql = 'select * from taxdata where ein = 742661023 limit 1;'\n",
    "my_df = pd.read_sql_query(my_sql, conn)\n",
    "assert my_df['expenses'][0] == 0\n",
    "assert my_df['revenue'][0] == 0\n",
    "\n",
    "### BEGIN HIDDEN TESTS\n",
    "my_sql = 'select * from taxdata where ein = 270243010 limit 1;'\n",
    "my_df = pd.read_sql_query(my_sql, conn)\n",
    "assert my_df['expenses'][0] == 147332\n",
    "assert my_df['revenue'][0] == 153662\n",
    "### END HIDDEN TESTS"
   ]
  },
  {
   "cell_type": "code",
   "execution_count": null,
   "metadata": {},
   "outputs": [],
   "source": []
  }
 ],
 "metadata": {
  "celltoolbar": "Create Assignment",
  "kernelspec": {
   "display_name": "Python 3",
   "language": "python",
   "name": "python3"
  },
  "language_info": {
   "codemirror_mode": {
    "name": "ipython",
    "version": 3
   },
   "file_extension": ".py",
   "mimetype": "text/x-python",
   "name": "python",
   "nbconvert_exporter": "python",
   "pygments_lexer": "ipython3",
   "version": "3.7.3"
  }
 },
 "nbformat": 4,
 "nbformat_minor": 2
}
